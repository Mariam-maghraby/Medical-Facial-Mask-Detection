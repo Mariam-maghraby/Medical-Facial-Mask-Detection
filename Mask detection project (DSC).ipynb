{
 "cells": [
  {
   "cell_type": "code",
   "execution_count": 1,
   "metadata": {},
   "outputs": [
    {
     "name": "stderr",
     "output_type": "stream",
     "text": [
      "Traceback (most recent call last):\n",
      "  File \"c:\\users\\dell\\anaconda3\\lib\\runpy.py\", line 193, in _run_module_as_main\n",
      "    \"__main__\", mod_spec)\n",
      "  File \"c:\\users\\dell\\anaconda3\\lib\\runpy.py\", line 85, in _run_code\n",
      "    exec(code, run_globals)\n",
      "  File \"C:\\Users\\DELL\\Anaconda3\\Scripts\\pip.exe\\__main__.py\", line 4, in <module>\n",
      "ModuleNotFoundError: No module named 'pip'\n",
      "Traceback (most recent call last):\n",
      "  File \"c:\\users\\dell\\anaconda3\\lib\\runpy.py\", line 193, in _run_module_as_main\n",
      "    \"__main__\", mod_spec)\n",
      "  File \"c:\\users\\dell\\anaconda3\\lib\\runpy.py\", line 85, in _run_code\n",
      "    exec(code, run_globals)\n",
      "  File \"C:\\Users\\DELL\\Anaconda3\\Scripts\\pip.exe\\__main__.py\", line 4, in <module>\n",
      "ModuleNotFoundError: No module named 'pip'\n"
     ]
    },
    {
     "ename": "ImportError",
     "evalue": "cannot import name 'RMSprop' from 'keras.optimizers' (C:\\Users\\DELL\\AppData\\Roaming\\Python\\Python37\\site-packages\\keras\\optimizers.py)",
     "output_type": "error",
     "traceback": [
      "\u001b[1;31m---------------------------------------------------------------------------\u001b[0m",
      "\u001b[1;31mImportError\u001b[0m                               Traceback (most recent call last)",
      "\u001b[1;32m<ipython-input-1-4a530ebc4a9d>\u001b[0m in \u001b[0;36m<module>\u001b[1;34m\u001b[0m\n\u001b[0;32m      1\u001b[0m \u001b[0mget_ipython\u001b[0m\u001b[1;33m(\u001b[0m\u001b[1;33m)\u001b[0m\u001b[1;33m.\u001b[0m\u001b[0msystem\u001b[0m\u001b[1;33m(\u001b[0m\u001b[1;34m'pip install opencv-python'\u001b[0m\u001b[1;33m)\u001b[0m\u001b[1;33m\u001b[0m\u001b[1;33m\u001b[0m\u001b[0m\n\u001b[0;32m      2\u001b[0m \u001b[0mget_ipython\u001b[0m\u001b[1;33m(\u001b[0m\u001b[1;33m)\u001b[0m\u001b[1;33m.\u001b[0m\u001b[0msystem\u001b[0m\u001b[1;33m(\u001b[0m\u001b[1;34m'pip install imutils'\u001b[0m\u001b[1;33m)\u001b[0m\u001b[1;33m\u001b[0m\u001b[1;33m\u001b[0m\u001b[0m\n\u001b[1;32m----> 3\u001b[1;33m \u001b[1;32mfrom\u001b[0m \u001b[0mkeras\u001b[0m\u001b[1;33m.\u001b[0m\u001b[0moptimizers\u001b[0m \u001b[1;32mimport\u001b[0m \u001b[0mRMSprop\u001b[0m\u001b[1;33m\u001b[0m\u001b[1;33m\u001b[0m\u001b[0m\n\u001b[0m\u001b[0;32m      4\u001b[0m \u001b[1;32mfrom\u001b[0m \u001b[0mkeras\u001b[0m\u001b[1;33m.\u001b[0m\u001b[0mpreprocessing\u001b[0m\u001b[1;33m.\u001b[0m\u001b[0mimage\u001b[0m \u001b[1;32mimport\u001b[0m \u001b[0mImageDataGenerator\u001b[0m\u001b[1;33m\u001b[0m\u001b[1;33m\u001b[0m\u001b[0m\n\u001b[0;32m      5\u001b[0m \u001b[1;32mimport\u001b[0m \u001b[0mcv2\u001b[0m\u001b[1;33m\u001b[0m\u001b[1;33m\u001b[0m\u001b[0m\n",
      "\u001b[1;31mImportError\u001b[0m: cannot import name 'RMSprop' from 'keras.optimizers' (C:\\Users\\DELL\\AppData\\Roaming\\Python\\Python37\\site-packages\\keras\\optimizers.py)"
     ]
    }
   ],
   "source": [
    "!pip install opencv-python\n",
    "!pip install imutils\n",
    "from keras.optimizers import RMSprop\n",
    "from keras.preprocessing.image import ImageDataGenerator\n",
    "import cv2\n",
    "import os\n",
    "from keras.models import Sequential\n",
    "from keras.layers import Conv2D, Input, ZeroPadding2D, BatchNormalization, Activation, MaxPooling2D, Flatten, Dense, Dropout\n",
    "from keras.models import Model, load_model\n",
    "from keras.callbacks import TensorBoard, ModelCheckpoint\n",
    "from sklearn.model_selection import train_test_split\n",
    "from sklearn.metrics import f1_score\n",
    "from sklearn.utils import shuffle\n",
    "import imutils\n",
    "import numpy as np\n",
    "import tensorflow as tf\n",
    "from PIL import Image\n",
    "from pathlib import Path"
   ]
  },
  {
   "cell_type": "code",
   "execution_count": null,
   "metadata": {},
   "outputs": [],
   "source": [
    "#building neural network\n",
    "model = Sequential([Conv2D(100,(3,3), activation='relu', input_shape=(150,150,3))\n",
    "                    ,MaxPooling2D(2,2),\n",
    "                    Conv2D(100,(3,3),activation = 'relu'),\n",
    "                    MaxPooling2D(2,2), Flatten(),Dropout(0.5),\n",
    "                    Dense(50, activation = 'relu'),\n",
    "                    Dense(2, activation = 'softmax')])\n",
    "model.compile(optimizer='adam', loss='binary_crossentropy', metrics=['accuracy'])"
   ]
  },
  {
   "cell_type": "code",
   "execution_count": null,
   "metadata": {},
   "outputs": [],
   "source": [
    "#image generation and augmentation\n",
    "TRAINING_DIR = r\"C:\\Users\\DELL\\Downloads\\face-mask-dataset\"\n",
    "train_datagen = ImageDataGenerator(rescale=1.0/255, rotation_range = 40, width_shift_range = 0.2, height_shift_range=0.2, shear_range = 0.2, zoom_range = 0.2, horizontal_flip = True, fill_mode = 'nearest')\n",
    "train_generator = train_datagen.flow_from_directory(TRAINING_DIR, \n",
    "                                                    batch_size = 10,\n",
    "                                                    target_size=(150,150))\n",
    "\n",
    "VALIDATION_DIR = r\"E:\\DSC\"\n",
    "validation_datagen = ImageDataGenerator(rescale=1.0/255)\n",
    "validation_generator = validation_datagen.flow_from_directory(VALIDATION_DIR, batch_size = 10, target_size=(150,150))\n"
   ]
  },
  {
   "cell_type": "code",
   "execution_count": null,
   "metadata": {},
   "outputs": [],
   "source": [
    "#Initializing a callback checkpoint to keep saving best model after each epoch while training\n",
    "checkpoint = ModelCheckpoint(r'C:\\Users\\DELL\\Downloads\\face-mask-dataset',monitor='val_loss',verbose=0,save_best_only=True,mode='auto')"
   ]
  },
  {
   "cell_type": "code",
   "execution_count": 22,
   "metadata": {},
   "outputs": [
    {
     "name": "stdout",
     "output_type": "stream",
     "text": [
      "[]\n"
     ]
    }
   ],
   "source": [
    "#for getting unidentified images as they cause errors in the code\n",
    "bad_list=[]\n",
    "dir=r'C:\\Users\\DELL\\Downloads\\face-mask-dataset'\n",
    "subdir_list=os.listdir(dir) # create a list of the sub directories in the directory ie train or test\n",
    "for d in subdir_list:  # iterate through the sub directories train and test\n",
    "    dpath=os.path.join (dir, d) # create path to sub directory\n",
    "    if d in ['test', 'train']:\n",
    "        class_list=os.listdir(dpath) # list of classes ie dog or cat\n",
    "       # print (class_list)\n",
    "        for klass in class_list: # iterate through the two classes\n",
    "            class_path=os.path.join(dpath, klass) # path to class directory\n",
    "            #print(class_path)\n",
    "            file_list=os.listdir(class_path) # create list of files in class directory\n",
    "            for f in file_list: # iterate through the files\n",
    "                fpath=os.path.join (class_path,f)\n",
    "                index=f.rfind('.') # find index of period infilename\n",
    "                ext=f[index+1:] # get the files extension\n",
    "                if ext  not in ['jpg', 'png', 'bmp', 'gif']:\n",
    "                    print(f'file {fpath}  has an invalid extension {ext}')\n",
    "                    bad_list.append(fpath)                    \n",
    "                else:\n",
    "                    try:\n",
    "                        img=cv2.imread(fpath)\n",
    "                        size=img.shape\n",
    "                    except:\n",
    "                        print(f'file {fpath} is not a valid image file ')\n",
    "                        bad_list.append(fpath)\n",
    "                       \n",
    "print (bad_list)"
   ]
  },
  {
   "cell_type": "code",
   "execution_count": 24,
   "metadata": {},
   "outputs": [
    {
     "name": "stdout",
     "output_type": "stream",
     "text": [
      "** Path: C:\\Users\\DELL\\Downloads\\face-mask-dataset\\train\\with_mask\\with-surgical-mask-stock-picture-648477.jpg  **opy.jpg  **  **pg  *****\r"
     ]
    }
   ],
   "source": [
    "folder_path = r'C:\\Users\\DELL\\Downloads\\face-mask-dataset\\train'\n",
    "extensions = []\n",
    "for fldr in os.listdir(folder_path):\n",
    "    sub_folder_path = os.path.join(folder_path, fldr)\n",
    "    for filee in os.listdir(sub_folder_path):\n",
    "        file_path = os.path.join(sub_folder_path, filee)\n",
    "        print('** Path: {}  **'.format(file_path), end=\"\\r\", flush=True)\n",
    "        im = Image.open(file_path)\n",
    "        rgb_im = im.convert('RGB')\n",
    "        if filee.split('.')[1] not in extensions:\n",
    "            extensions.append(filee.split('.')[1])\n",
    "\n",
    "            \n"
   ]
  },
  {
   "cell_type": "code",
   "execution_count": 25,
   "metadata": {},
   "outputs": [
    {
     "name": "stdout",
     "output_type": "stream",
     "text": [
      "Epoch 1/10\n",
      "129/129 [==============================] - ETA: 0s - loss: 0.8189 - accuracy: 0.0792WARNING:tensorflow:From C:\\Users\\DELL\\anaconda3\\lib\\site-packages\\tensorflow\\python\\training\\tracking\\tracking.py:111: Model.state_updates (from tensorflow.python.keras.engine.training) is deprecated and will be removed in a future version.\n",
      "Instructions for updating:\n",
      "This property should not be used in TensorFlow 2.0, as updates are applied automatically.\n",
      "WARNING:tensorflow:From C:\\Users\\DELL\\anaconda3\\lib\\site-packages\\tensorflow\\python\\training\\tracking\\tracking.py:111: Layer.updates (from tensorflow.python.keras.engine.base_layer) is deprecated and will be removed in a future version.\n",
      "Instructions for updating:\n",
      "This property should not be used in TensorFlow 2.0, as updates are applied automatically.\n",
      "INFO:tensorflow:Assets written to: C:\\Users\\DELL\\Downloads\\face-mask-dataset\\assets\n",
      "129/129 [==============================] - 53s 415ms/step - loss: 0.8189 - accuracy: 0.0792 - val_loss: 0.6931 - val_accuracy: 0.0000e+00\n",
      "Epoch 2/10\n",
      "129/129 [==============================] - ETA: 0s - loss: 0.6931 - accuracy: 0.0000e+00INFO:tensorflow:Assets written to: C:\\Users\\DELL\\Downloads\\face-mask-dataset\\assets\n",
      "129/129 [==============================] - 49s 381ms/step - loss: 0.6931 - accuracy: 0.0000e+00 - val_loss: 0.6931 - val_accuracy: 0.0000e+00\n",
      "Epoch 3/10\n",
      "129/129 [==============================] - ETA: 0s - loss: 0.6931 - accuracy: 0.0000e+00INFO:tensorflow:Assets written to: C:\\Users\\DELL\\Downloads\\face-mask-dataset\\assets\n",
      "129/129 [==============================] - 50s 384ms/step - loss: 0.6931 - accuracy: 0.0000e+00 - val_loss: 0.6931 - val_accuracy: 0.0000e+00\n",
      "Epoch 4/10\n",
      "129/129 [==============================] - 51s 393ms/step - loss: 0.6931 - accuracy: 0.0000e+00 - val_loss: 0.6931 - val_accuracy: 0.0000e+00\n",
      "Epoch 5/10\n",
      "129/129 [==============================] - 59s 457ms/step - loss: 0.6931 - accuracy: 0.2873 - val_loss: 0.6931 - val_accuracy: 1.0000\n",
      "Epoch 6/10\n",
      "129/129 [==============================] - 55s 425ms/step - loss: 0.6931 - accuracy: 1.0000 - val_loss: 0.6931 - val_accuracy: 1.0000\n",
      "Epoch 7/10\n",
      "129/129 [==============================] - 54s 420ms/step - loss: 0.6931 - accuracy: 1.0000 - val_loss: 0.6931 - val_accuracy: 1.0000\n",
      "Epoch 8/10\n",
      "129/129 [==============================] - 55s 423ms/step - loss: 0.6931 - accuracy: 1.0000 - val_loss: 0.6931 - val_accuracy: 1.0000\n",
      "Epoch 9/10\n",
      "129/129 [==============================] - 57s 438ms/step - loss: 0.6931 - accuracy: 1.0000 - val_loss: 0.6931 - val_accuracy: 1.0000\n",
      "Epoch 10/10\n",
      "129/129 [==============================] - 55s 427ms/step - loss: 0.6931 - accuracy: 1.0000 - val_loss: 0.6931 - val_accuracy: 1.0000\n"
     ]
    },
    {
     "data": {
      "text/plain": [
       "<tensorflow.python.keras.layers.core.Dense at 0x19906d87cc8>"
      ]
     },
     "execution_count": 25,
     "metadata": {},
     "output_type": "execute_result"
    }
   ],
   "source": [
    "#Training the model\n",
    "history = model.fit_generator(train_generator,\n",
    "                              epochs=10,\n",
    "                              validation_data=validation_generator, callbacks = [checkpoint])\n",
    "tf.keras.layers.Dense(10, activation='softmax')"
   ]
  },
  {
   "cell_type": "code",
   "execution_count": 32,
   "metadata": {},
   "outputs": [],
   "source": [
    "#I actually re-wrote a code I found in https://data-flair.training/blogs/face-mask-detection-with-python/ \n",
    "#and then fixed the errors that popped out"
   ]
  }
 ],
 "metadata": {
  "kernelspec": {
   "display_name": "Python 3",
   "language": "python",
   "name": "python3"
  },
  "language_info": {
   "codemirror_mode": {
    "name": "ipython",
    "version": 3
   },
   "file_extension": ".py",
   "mimetype": "text/x-python",
   "name": "python",
   "nbconvert_exporter": "python",
   "pygments_lexer": "ipython3",
   "version": "3.7.6"
  }
 },
 "nbformat": 4,
 "nbformat_minor": 4
}
